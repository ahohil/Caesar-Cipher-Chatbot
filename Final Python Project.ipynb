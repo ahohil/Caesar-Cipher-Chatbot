{
 "cells": [
  {
   "cell_type": "markdown",
   "metadata": {},
   "source": [
    "## Cipher Bot\n",
    "\n",
    "This program creates a chat bot, known as cipher bot.\n",
    "\n",
    "## Goal\n",
    "\n",
    "The overall goal of this program is to allow the user to interact with a chatbot that will encrypt any phrase or sentence in English that they input, and return the encrypted response using the Caesar Cipher.\n",
    "\n",
    "## How it works\n",
    "\n",
    "The Caesar Cipher shifts each letter 3 spaces in order to encrypt the user's sentence or phrase.\n",
    "\n",
    "After running all of the cells in order, and the user runs the last cell, cipher bot will ask the user what they want to encrypt. The user can put in any statement, whether it's a question, sentence, exclamation, etc., and cipher bot will call functions that each do the following:\n",
    "\n",
    "    1) Strip the statement of its punctuation, so cipher bot can focus on encrypting the \n",
    "    letter characters in the user's statement.\n",
    "    \n",
    "    2) Lowercase all of the letters in the user's statement because the cipher_dictionary \n",
    "    only consists of lowercase letters.\n",
    "    \n",
    "    3) Uses the Caesar Cipher, which was used to create cipher_dictionary, to encrypt the \n",
    "    user's message by assigning each letter to a letter in the alphabet that's 3 letters\n",
    "    ahead of it.\n",
    "\n",
    "After the message has been encrypted, cipher bot will show the user what his or her original message was without the punctuation, and what their encrypted message looks like.\n",
    "\n",
    "Then, cipher bot will prompt another question asking the user if he or she wants to encrypt anything else. Every time the user answers \"yes\", cipher bot will ask what they want to encrypt, call the same functions as before to encrypt his or her statement, and ask if they want to encrypt anything else. However, if the user answers \"no\", this prompts cipher bot to say \"Have a nice day\" and exits the program."
   ]
  },
  {
   "cell_type": "code",
   "execution_count": null,
   "metadata": {},
   "outputs": [],
   "source": [
    "#This project is available on Github!!\n",
    "#My Github account name is ahohil"
   ]
  },
  {
   "cell_type": "code",
   "execution_count": 1,
   "metadata": {},
   "outputs": [],
   "source": [
    "##Necessary Input Code\n",
    "\n",
    "import string\n",
    "import nltk\n",
    "from my_module.test_functions import *"
   ]
  },
  {
   "cell_type": "code",
   "execution_count": 2,
   "metadata": {},
   "outputs": [],
   "source": [
    "#This is a list of statements that are called in cipher_bot\n",
    "#The style of this code was adapted from A3, but is different from the code in A3\n",
    "\n",
    "STATEMENTS_FOR_USER = [\"Hello\", \"\\nWhat do you want to encrypt?\\t\",\"\\nWould you like to encrypt anything else?\",\"\\nHave a nice day!\"]"
   ]
  },
  {
   "cell_type": "code",
   "execution_count": 3,
   "metadata": {},
   "outputs": [],
   "source": [
    "#Actual chatbot that interacts with user\n",
    "#Original Code\n",
    "\n",
    "def cipher_bot():\n",
    "    \n",
    "    #Bot greeting that tells user \"Hello\"\n",
    "    #This is because STATEMENTS_FOR_USER[0] calls the first item in the list above\n",
    "    \n",
    "    print(STATEMENTS_FOR_USER[0])\n",
    "    \n",
    "    #Boolean that allows the while loop to run\n",
    "    \n",
    "    conversation = True\n",
    "    \n",
    "    #while loop that allows bot to repeat statements and repeatedly call functions\n",
    "    \n",
    "    while conversation:\n",
    "        \n",
    "        #Calls the function bot_asks_question and passes the second item in the list above\n",
    "        #bot_asks_question will print the second element, and then process the user's input\n",
    "        #Punctuation will be removed first, then all letters will be lowercased\n",
    "        #This is stored in variable unencrypted_msg\n",
    "        \n",
    "        unencrypted_msg = bot_asks_question(STATEMENTS_FOR_USER[1])\n",
    "        \n",
    "        #Prints \"Original message is: (unencrypted message - aka user's input)\"\n",
    "        \n",
    "        print(\"\\nOriginal message is: \", unencrypted_msg)\n",
    "        \n",
    "        #Passes the the user's input, also known as the unencrypted message to the encrypt_message function\n",
    "        #The encrypt_message function loops through cipher_dictionary and encrypts the user's input\n",
    "        #The encrypted message will be stored in variable encrypted_msg\n",
    "        \n",
    "        encrypted_msg = encrypt_message(unencrypted_msg)\n",
    "        \n",
    "        #Prints \"Encrypted message is: (encrypted message)\"\n",
    "        \n",
    "        print(\"\\nEncrypted message is: \", encrypted_msg)\n",
    "        \n",
    "        #Asks user if they want to encrypt anything else by printing the third item from the list above\n",
    "        #User is expected to respond with either \"yes\" or \"no\"\n",
    "        print(STATEMENTS_FOR_USER[2])\n",
    "        \n",
    "        #Takes user input\n",
    "        #If user replies \"yes\", this means \"True\" and cipher_bot will run again\n",
    "        #If user replies \"no\", cipher_bot will refer to the if statement below\n",
    "        \n",
    "        user_statement = input(\"INPUT: \\t\")\n",
    "        \n",
    "        #In the case that the user wants to escape the program, they must answer \"no\"\n",
    "        #The bot will exit the program\n",
    "        \n",
    "        if user_statement.lower() == \"no\":\n",
    "            conversation = False\n",
    "        \n",
    "    #Prints \"Have a nice day\" by calling the fourth item in the list above before exiting the program\n",
    "    \n",
    "    print(STATEMENTS_FOR_USER[3])\n"
   ]
  },
  {
   "cell_type": "code",
   "execution_count": null,
   "metadata": {},
   "outputs": [
    {
     "name": "stdout",
     "output_type": "stream",
     "text": [
      "Hello\n",
      "\n",
      "What do you want to encrypt?\t\n"
     ]
    }
   ],
   "source": [
    "cipher_bot()"
   ]
  },
  {
   "cell_type": "code",
   "execution_count": null,
   "metadata": {},
   "outputs": [],
   "source": []
  }
 ],
 "metadata": {
  "kernelspec": {
   "display_name": "Python 3",
   "language": "python",
   "name": "python3"
  },
  "language_info": {
   "codemirror_mode": {
    "name": "ipython",
    "version": 3
   },
   "file_extension": ".py",
   "mimetype": "text/x-python",
   "name": "python",
   "nbconvert_exporter": "python",
   "pygments_lexer": "ipython3",
   "version": "3.7.0"
  }
 },
 "nbformat": 4,
 "nbformat_minor": 2
}
